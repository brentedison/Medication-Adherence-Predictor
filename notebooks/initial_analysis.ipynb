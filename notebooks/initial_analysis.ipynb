{
 "cells": [
  {
   "cell_type": "code",
   "execution_count": null,
   "id": "f0e21b0b-38be-4375-83b1-0fae8f7fe2a9",
   "metadata": {},
   "outputs": [],
   "source": [
    "import pandas as pd\n",
    "import matplotlib.pyplot as plt\n",
    "import seaborn as sns\n",
    "%matplotlib inline\n",
    "\n",
    "# Set style for better-looking plots\n",
    "plt.style.use('seaborn')"
   ]
  },
  {
   "cell_type": "code",
   "execution_count": null,
   "id": "2824141f-2295-481d-ba55-650cb00f88d5",
   "metadata": {},
   "outputs": [],
   "source": [
    "# Load the data\n",
    "df = pd.read_csv('../data/synthetic_patients.csv')\n",
    "\n",
    "# Display the first few rows and basic info\n",
    "print(df.head())\n",
    "print(\"\\nDataset Info:\")\n",
    "df.info()"
   ]
  },
  {
   "cell_type": "code",
   "execution_count": null,
   "id": "2fbfba8a-b490-41ea-8707-89fff5b2f774",
   "metadata": {},
   "outputs": [],
   "source": [
    "# Basic statistics\n",
    "print(\"Basic Statistics:\")\n",
    "print(df.describe())\n",
    "\n",
    "# Adherence rate\n",
    "adherence_rate = df['adherence_status'].mean()\n",
    "print(f\"\\nOverall Adherence Rate: {adherence_rate:.2%}\")"
   ]
  },
  {
   "cell_type": "code",
   "execution_count": null,
   "id": "381fff39-a188-4246-ba9c-d85b248cd419",
   "metadata": {},
   "outputs": [],
   "source": [
    "# Group by days_supply and calculate mean adherence\n",
    "adherence_by_supply = df.groupby('days_supply')['adherence_status'].mean()\n",
    "\n",
    "# Plot\n",
    "plt.figure(figsize=(10, 6))\n",
    "adherence_by_supply.plot(kind='bar')\n",
    "plt.title('Adherence Rate by Days Supply')\n",
    "plt.xlabel('Days Supply')\n",
    "plt.ylabel('Adherence Rate')\n",
    "plt.xticks(rotation=0)\n",
    "plt.tight_layout()\n",
    "plt.show()"
   ]
  },
  {
   "cell_type": "code",
   "execution_count": null,
   "id": "6465eac0-9834-45d7-b0c5-35d61e8d940d",
   "metadata": {},
   "outputs": [],
   "source": [
    "plt.figure(figsize=(10, 6))\n",
    "sns.histplot(df['refill_gap'], kde=True)\n",
    "plt.title('Distribution of Refill Gap')\n",
    "plt.xlabel('Refill Gap (Days)')\n",
    "plt.ylabel('Count')\n",
    "plt.tight_layout()\n",
    "plt.show()"
   ]
  },
  {
   "cell_type": "code",
   "execution_count": null,
   "id": "9c007f6e-d879-4d46-bfba-f42395c1f7c7",
   "metadata": {},
   "outputs": [],
   "source": [
    "# Group by comorbidities and calculate mean adherence\n",
    "adherence_by_comorbidity = df.groupby('comorbidities')['adherence_status'].mean().sort_values(ascending=False)\n",
    "\n",
    "# Plot\n",
    "plt.figure(figsize=(10, 6))\n",
    "adherence_by_comorbidity.plot(kind='bar')\n",
    "plt.title('Adherence Rate by Comorbidities')\n",
    "plt.xlabel('Comorbidities')\n",
    "plt.ylabel('Adherence Rate')\n",
    "plt.xticks(rotation=45)\n",
    "plt.tight_layout()\n",
    "plt.show()"
   ]
  },
  {
   "cell_type": "code",
   "execution_count": null,
   "id": "297dc406-16a8-43b6-9feb-c1b763272d50",
   "metadata": {},
   "outputs": [],
   "source": [
    "plt.figure(figsize=(10, 6))\n",
    "sns.boxplot(x='sdoh_score', y='adherence_status', data=df)\n",
    "plt.title('Adherence Status by SDOH Score')\n",
    "plt.xlabel('SDOH Score')\n",
    "plt.ylabel('Adherence Status')\n",
    "plt.tight_layout()\n",
    "plt.show()"
   ]
  },
  {
   "cell_type": "code",
   "execution_count": null,
   "id": "4fb105e0-dbdf-45fe-abf2-978c7be90495",
   "metadata": {},
   "outputs": [],
   "source": [
    "## Key Findings\n",
    "\n",
    "1. Overall adherence rate: [Insert rate]\n",
    "2. Days supply impact: [Describe trend]\n",
    "3. Refill gap distribution: [Describe pattern]\n",
    "4. Comorbidities impact: [Describe differences]\n",
    "5. SDOH score impact: [Describe trend]\n",
    "\n",
    "These findings align with my pharmacy experience, particularly the [insert specific observation that matches your real-world experience]."
   ]
  }
 ],
 "metadata": {
  "kernelspec": {
   "display_name": "Python 3 (ipykernel)",
   "language": "python",
   "name": "python3"
  },
  "language_info": {
   "codemirror_mode": {
    "name": "ipython",
    "version": 3
   },
   "file_extension": ".py",
   "mimetype": "text/x-python",
   "name": "python",
   "nbconvert_exporter": "python",
   "pygments_lexer": "ipython3",
   "version": "3.13.1"
  }
 },
 "nbformat": 4,
 "nbformat_minor": 5
}
